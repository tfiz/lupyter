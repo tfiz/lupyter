{
 "cells": [
  {
   "cell_type": "markdown",
   "id": "challenging-massage",
   "metadata": {},
   "source": [
    "# Welcome to Lua!\n",
    "\n",
    "Let's start off with the version you're using:"
   ]
  },
  {
   "cell_type": "code",
   "execution_count": null,
   "id": "religious-printer",
   "metadata": {},
   "outputs": [],
   "source": [
    "print(\"Hello World from \" .. _VERSION .. \"!\")"
   ]
  },
  {
   "cell_type": "markdown",
   "id": "focused-seventh",
   "metadata": {},
   "source": [
    "As you saw above strings are concatenated with `..`.\n",
    "\n",
    "The `_G` `table` is the global table, similar to `globals()` in Python.\n",
    "You can print its contents with a `for` loop and the `pairs` function, which gives you a `(key, value)` iterator, similar to `dict.items()` in Python.\n",
    "\n",
    "Let's try it:"
   ]
  },
  {
   "cell_type": "code",
   "execution_count": null,
   "id": "early-murder",
   "metadata": {
    "scrolled": true
   },
   "outputs": [],
   "source": [
    "for k,v in pairs(_G) do\n",
    "    print(k .. \": \" .. type(v))\n",
    "end"
   ]
  },
  {
   "cell_type": "markdown",
   "id": "configured-peace",
   "metadata": {},
   "source": [
    "For more info see [Learn X in Y minutes Lua guide](https://learnxinyminutes.com/docs/lua/). Or help out and add more to this Notebook =]"
   ]
  },
  {
   "cell_type": "code",
   "execution_count": null,
   "id": "understood-merchant",
   "metadata": {},
   "outputs": [],
   "source": []
  }
 ],
 "metadata": {
  "kernelspec": {
   "display_name": "Lua 5.1.5",
   "language": "lua",
   "name": "lupyter"
  },
  "language_info": {
   "file_extension": ".lua",
   "mimetype": "text/x-lua",
   "name": "lua",
   "version": "5.1.5"
  }
 },
 "nbformat": 4,
 "nbformat_minor": 5
}
